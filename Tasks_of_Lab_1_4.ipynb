{
  "nbformat": 4,
  "nbformat_minor": 0,
  "metadata": {
    "colab": {
      "provenance": []
    },
    "kernelspec": {
      "name": "python3",
      "display_name": "Python 3"
    },
    "language_info": {
      "name": "python"
    }
  },
  "cells": [
    {
      "cell_type": "markdown",
      "source": [
        "# **First Lab Task**"
      ],
      "metadata": {
        "id": "ZX9249YXsWnl"
      }
    },
    {
      "cell_type": "code",
      "source": [
        "student_id =[]\n",
        "student_name =[]\n",
        "student_city =[]\n",
        "\n",
        "while True:\n",
        "  id = int(input(\"Enter Student ID: \"))\n",
        "  name = input(\"Enter Student name: \")\n",
        "  city = input(\"Enter Student city: \")\n",
        "\n",
        "  student_id.append(id)\n",
        "  student_name.append(name)\n",
        "  student_city.append(city)\n",
        "  i = input(\"Type stop if you want to exit \")\n",
        "  if i == \"stop\":\n",
        "    break\n",
        "\n",
        "student_record ={}\n",
        "for i in range(len(student_id)):\n",
        "  student_record[student_id[i]] = [student_name[i],student_city[i]]\n",
        "\n",
        "print(student_record)\n",
        "\n",
        "def fetch_record(id):\n",
        "  if id in student_record:\n",
        "    return student_record[id]\n",
        "  else:\n",
        "    return \"Student not found\"\n",
        "\n",
        "record_to_fetch = int(input(\"Enter student id to fetch its record: \"))\n",
        "print(fetch_record(record_to_fetch))"
      ],
      "metadata": {
        "id": "AyJP_56rsbKU",
        "colab": {
          "base_uri": "https://localhost:8080/"
        },
        "outputId": "e424834d-95c3-4bac-d67f-7d0354cac71b"
      },
      "execution_count": 9,
      "outputs": [
        {
          "output_type": "stream",
          "name": "stdout",
          "text": [
            "Enter Student ID: 1\n",
            "Enter Student name: Izza\n",
            "Enter Student city: RWP\n",
            "Type stop if you want to exit no\n",
            "Enter Student ID: 2\n",
            "Enter Student name: Hamna\n",
            "Enter Student city: Lahore\n",
            "Type stop if you want to exit no\n",
            "Enter Student ID: 3\n",
            "Enter Student name: Soma\n",
            "Enter Student city: ISB\n",
            "Type stop if you want to exit no\n",
            "Enter Student ID: 7\n",
            "Enter Student name: Rimsha\n",
            "Enter Student city: Toronto\n",
            "Type stop if you want to exit stop\n",
            "{1: ['Izza', 'RWP'], 2: ['Hamna', 'Lahore'], 3: ['Soma', 'ISB'], 7: ['Rimsha', 'Toronto']}\n",
            "Enter student id to fetch its record: 2\n",
            "['Hamna', 'Lahore']\n"
          ]
        }
      ]
    },
    {
      "cell_type": "markdown",
      "source": [
        "# **Second Lab Tasks**"
      ],
      "metadata": {
        "id": "O1vt-jrDserB"
      }
    },
    {
      "cell_type": "code",
      "source": [
        "cities_graph = {\n",
        "    \"Oradea\":['Zerind','Sibiu'],\n",
        "    \"Zerind\":['Oradea','Arad'],\n",
        "    \"Arad\":['Zerind','Sibiu','Timisoara'],\n",
        "    \"Timisoara\":['Arad','Lugoj'],\n",
        "    \"Lugoj\":['Timisoara','Mehadia'],\n",
        "    \"Mehadia\":['Lugoj','Drobeta'],\n",
        "    \"Drobeta\":['Mehadia','Craiova'],\n",
        "    \"Craiova\":['Drobeta','Rimnicu Vilcea','Pitesti'],\n",
        "    \"Rimnicu Vilcea\":['Craiova','Pitesti','Sibiu'],\n",
        "    \"Sibiu\":['Oradea','Arad','Rimnicu Vilcea'],\n",
        "    \"Pitesti\":['Rimnicu Vilcea','Craiova','Bucharest'],\n",
        "    \"Bucharest\":['Pitesti','Fagaras','Giurgiu','Urziceni'],\n",
        "    'Fagaras':['Sibiu','Bucharest'],\n",
        "    \"Giurgiu\":['Bucharest'],\n",
        "    \"Urziceni\":['Bucharest','Hirsova','Vaslui'],\n",
        "    \"Hirsova\":['Urziceni','Eforie'],\n",
        "    \"Eforie\":['Hirsova'],\n",
        "    \"Vaslui\":['Urziceni','Iasi'],\n",
        "    \"Iasi\":['Vaslui','Neamt'],\n",
        "    \"Neamt\":['Iasi']\n",
        "\n",
        "}"
      ],
      "metadata": {
        "id": "Qepe2rjIsmOL"
      },
      "execution_count": 1,
      "outputs": []
    },
    {
      "cell_type": "code",
      "source": [
        "def breadth_first_search(graph, start, goal):\n",
        "    open = [start]\n",
        "    closed= []\n",
        "    parent = {}  # Dictionary to store parent-child relationships\n",
        "\n",
        "    if start == goal:\n",
        "        print(\"Destination found!\")\n",
        "        closed.append(start)\n",
        "        return closed\n",
        "\n",
        "    if start not in graph or goal not in graph:\n",
        "        print(\"City unrecognized!\")\n",
        "        return\n",
        "\n",
        "    while open:\n",
        "        current = open.pop(0)\n",
        "        if current == goal:\n",
        "            print(\"Destination found!\")\n",
        "            path = []\n",
        "\n",
        "            while current in parent:\n",
        "                path.insert(0, current)\n",
        "                current = parent[current]\n",
        "            print(\"Parent: \", parent)\n",
        "            path.insert(0, start)\n",
        "            print(\"Path:\", path)\n",
        "            return\n",
        "        closed.append(current)\n",
        "\n",
        "        for neighbor in graph[current]:\n",
        "          if neighbor not in closed and neighbor not in open:\n",
        "              open.append(neighbor)\n",
        "              parent[neighbor] = current # Store parent\n"
      ],
      "metadata": {
        "id": "cNHx_t2JsmW9"
      },
      "execution_count": 4,
      "outputs": []
    },
    {
      "cell_type": "code",
      "source": [
        "start= input(\"Enter starting city: \")\n",
        "goal= input(\"Enter goal city: \")\n",
        "breadth_first_search(cities_graph, start, goal)\n"
      ],
      "metadata": {
        "colab": {
          "base_uri": "https://localhost:8080/"
        },
        "id": "WNE_ghRCsqXO",
        "outputId": "09bdbef3-eaee-4ab8-89c4-e223bfc11ffa"
      },
      "execution_count": 5,
      "outputs": [
        {
          "output_type": "stream",
          "name": "stdout",
          "text": [
            "Enter starting city: Arad\n",
            "Enter goal city: Bucharest\n",
            "Destination found!\n",
            "Parent:  {'Zerind': 'Arad', 'Sibiu': 'Arad', 'Timisoara': 'Arad', 'Oradea': 'Zerind', 'Rimnicu Vilcea': 'Sibiu', 'Lugoj': 'Timisoara', 'Craiova': 'Rimnicu Vilcea', 'Pitesti': 'Rimnicu Vilcea', 'Mehadia': 'Lugoj', 'Drobeta': 'Craiova', 'Bucharest': 'Pitesti'}\n",
            "Path: ['Arad', 'Sibiu', 'Rimnicu Vilcea', 'Pitesti', 'Bucharest']\n"
          ]
        }
      ]
    },
    {
      "cell_type": "code",
      "source": [
        "def dfs_traversal(graph, start, goal):\n",
        "\n",
        "    opened = [start]\n",
        "    closed = []\n",
        "    while opened:\n",
        "        node = opened.pop(0)\n",
        "        print('opened',opened)\n",
        "        if node == goal:\n",
        "          closed.append(node)\n",
        "          print('closed',closed)\n",
        "          return \"Goal Reached\", closed\n",
        "        else:\n",
        "          closed.append(node)\n",
        "          opened = [child for child in graph[node] if child not in opened and child not in closed] + opened\n",
        "          print('opened',opened)\n",
        "    return 'GOAL Not FOUND'"
      ],
      "metadata": {
        "id": "0bM973-x2D5-"
      },
      "execution_count": null,
      "outputs": []
    },
    {
      "cell_type": "code",
      "source": [
        "s= input(\"Enter starting city: \")\n",
        "g= input(\"Enter goal city: \")\n",
        "dfs_traversal(cities_graph, s, g)"
      ],
      "metadata": {
        "colab": {
          "base_uri": "https://localhost:8080/"
        },
        "id": "Vap9EIZu2FTt",
        "outputId": "3b0769ed-1306-4a27-f912-e5eb215d5e2c"
      },
      "execution_count": null,
      "outputs": [
        {
          "output_type": "stream",
          "name": "stdout",
          "text": [
            "Enter starting city: Hirsova\n",
            "Enter goal city: Pitesti\n",
            "opened []\n",
            "opened ['Urziceni', 'Eforie']\n",
            "opened ['Eforie']\n",
            "opened ['Bucharest', 'Vaslui', 'Eforie']\n",
            "opened ['Vaslui', 'Eforie']\n",
            "opened ['Pitesti', 'Fagaras', 'Giurgiu', 'Vaslui', 'Eforie']\n",
            "opened ['Fagaras', 'Giurgiu', 'Vaslui', 'Eforie']\n",
            "closed ['Hirsova', 'Urziceni', 'Bucharest', 'Pitesti']\n"
          ]
        },
        {
          "output_type": "execute_result",
          "data": {
            "text/plain": [
              "('Goal Reached', ['Hirsova', 'Urziceni', 'Bucharest', 'Pitesti'])"
            ]
          },
          "metadata": {},
          "execution_count": 8
        }
      ]
    },
    {
      "cell_type": "markdown",
      "source": [
        "# **Third Lab Tasks**"
      ],
      "metadata": {
        "id": "xzgDbPGjstlb"
      }
    },
    {
      "cell_type": "code",
      "source": [
        "from operator import itemgetter\n",
        "\n",
        "graph = {'Arad': [['Zerind', 75, 374], ['Timisoara', 118, 329], ['Sibiu', 140, 253]],\n",
        "         'Zerind': [['Oradea', 71, 380], ['Arad', 75, 366]],\n",
        "         'Oradea': [['Zerind', 71, 374], ['Sibiu', 151, 253]],\n",
        "         'Sibiu': [['Rimniciu Vilcea', 80, 193], ['Fagaras', 99, 176], ['Arad', 140, 366], ['Oradea', 151, 380]],\n",
        "         'Fagaras': [['Sibiu', 99, 253], ['Bucharest', 211, 0]],\n",
        "         'Rimniciu Vilcea': [['Pitesti', 97, 100], ['Craiova', 146, 160], ['Sibiu', 80, 253]],\n",
        "         'Timisoara': [['Lugoj', 111, 244], ['Arad', 118, 366]],\n",
        "         'Lugoj': [['Mehadia', 70, 241], ['Timisoara', 111, 329]],\n",
        "         'Mehadia': [['Lugoj', 70, 244], ['Dobreta', 75, 242]],\n",
        "         'Dobreta': [['Mehadia', 75, 241], ['Craiova', 120, 160]],\n",
        "         'Pitesti': [['Craiova', 138, 160], ['Bucharest', 101, 0]],\n",
        "         'Craiova': [['Pitesti', 138, 100], ['Dobreta', 120, 242], ['Rimniciu Vilcea', 146, 193]],\n",
        "         'Bucharest': [['Giurgiu', 90, 77], ['Urziceni', 85, 80], ['Fagaras', 211, 178], ['Pitesti', 101, 100]],\n",
        "         'Giurgiu': [['Bucharest', 90, 0]],\n",
        "         'Urziceni': [['Vaslui', 142, 199], ['Hirsova', 98, 151], ['Bucharest', 85, 0]],\n",
        "         'Vaslui': [['Lasi', 92, 226], ['Urziceni', 142, 80]],\n",
        "         'Lasi': [['Neamt', 87, 234], ['Vaslui', 92, 199]],\n",
        "         'Neamt': [['Lasi', 87, 226]],\n",
        "         'Hirsova': [['Eforie', 86, 161], ['Urziceni', 98, 80]],\n",
        "         'Eforie': [['Hirsova', 86, 151]], }\n",
        "\n",
        "def astarik_traversal(graph, start, goal):\n",
        "    opened = [start]\n",
        "    closed = []\n",
        "    while opened:\n",
        "        node = opened.pop(0)\n",
        "        print('current',node)\n",
        "        if node[0] == goal[0]:\n",
        "          closed.append(node)\n",
        "          print('closed',closed)\n",
        "          return [a[0] for a in closed]\n",
        "        else:\n",
        "            closed.append(node)\n",
        "            print('node: ',node[0])\n",
        "            opened = opened + [[item[0],closed[-1][1]+item[1],item[2]] for item in graph[node[0]] if item[0] not in [ i[0] for i  in opened] and item[0] not in [[ i[0] for i  in closed]]] #]\n",
        "            print ('open',opened)\n",
        "        opened.sort(key=lambda element:element[1]+element[2])\n",
        "        print('sortedopen',opened)\n",
        "    return 'GOAL Not FOUND'\n",
        "\n",
        "print(astarik_traversal(graph, ['Arad', 0, 244], ['Bucharest', 0, 0]))\n"
      ],
      "metadata": {
        "id": "0FPXvWM62VUN",
        "outputId": "76cb163f-7eef-40bb-f53c-5feca76ec911",
        "colab": {
          "base_uri": "https://localhost:8080/"
        }
      },
      "execution_count": null,
      "outputs": [
        {
          "output_type": "stream",
          "name": "stdout",
          "text": [
            "current ['Arad', 0, 244]\n",
            "node:  Arad\n",
            "open [['Zerind', 75, 374], ['Timisoara', 118, 329], ['Sibiu', 140, 253]]\n",
            "sortedopen [['Sibiu', 140, 253], ['Timisoara', 118, 329], ['Zerind', 75, 374]]\n",
            "current ['Sibiu', 140, 253]\n",
            "node:  Sibiu\n",
            "open [['Timisoara', 118, 329], ['Zerind', 75, 374], ['Rimniciu Vilcea', 220, 193], ['Fagaras', 239, 176], ['Arad', 280, 366], ['Oradea', 291, 380]]\n",
            "sortedopen [['Rimniciu Vilcea', 220, 193], ['Fagaras', 239, 176], ['Timisoara', 118, 329], ['Zerind', 75, 374], ['Arad', 280, 366], ['Oradea', 291, 380]]\n",
            "current ['Rimniciu Vilcea', 220, 193]\n",
            "node:  Rimniciu Vilcea\n",
            "open [['Fagaras', 239, 176], ['Timisoara', 118, 329], ['Zerind', 75, 374], ['Arad', 280, 366], ['Oradea', 291, 380], ['Pitesti', 317, 100], ['Craiova', 366, 160], ['Sibiu', 300, 253]]\n",
            "sortedopen [['Fagaras', 239, 176], ['Pitesti', 317, 100], ['Timisoara', 118, 329], ['Zerind', 75, 374], ['Craiova', 366, 160], ['Sibiu', 300, 253], ['Arad', 280, 366], ['Oradea', 291, 380]]\n",
            "current ['Fagaras', 239, 176]\n",
            "node:  Fagaras\n",
            "open [['Pitesti', 317, 100], ['Timisoara', 118, 329], ['Zerind', 75, 374], ['Craiova', 366, 160], ['Sibiu', 300, 253], ['Arad', 280, 366], ['Oradea', 291, 380], ['Bucharest', 450, 0]]\n",
            "sortedopen [['Pitesti', 317, 100], ['Timisoara', 118, 329], ['Zerind', 75, 374], ['Bucharest', 450, 0], ['Craiova', 366, 160], ['Sibiu', 300, 253], ['Arad', 280, 366], ['Oradea', 291, 380]]\n",
            "current ['Pitesti', 317, 100]\n",
            "node:  Pitesti\n",
            "open [['Timisoara', 118, 329], ['Zerind', 75, 374], ['Bucharest', 450, 0], ['Craiova', 366, 160], ['Sibiu', 300, 253], ['Arad', 280, 366], ['Oradea', 291, 380]]\n",
            "sortedopen [['Timisoara', 118, 329], ['Zerind', 75, 374], ['Bucharest', 450, 0], ['Craiova', 366, 160], ['Sibiu', 300, 253], ['Arad', 280, 366], ['Oradea', 291, 380]]\n",
            "current ['Timisoara', 118, 329]\n",
            "node:  Timisoara\n",
            "open [['Zerind', 75, 374], ['Bucharest', 450, 0], ['Craiova', 366, 160], ['Sibiu', 300, 253], ['Arad', 280, 366], ['Oradea', 291, 380], ['Lugoj', 229, 244]]\n",
            "sortedopen [['Zerind', 75, 374], ['Bucharest', 450, 0], ['Lugoj', 229, 244], ['Craiova', 366, 160], ['Sibiu', 300, 253], ['Arad', 280, 366], ['Oradea', 291, 380]]\n",
            "current ['Zerind', 75, 374]\n",
            "node:  Zerind\n",
            "open [['Bucharest', 450, 0], ['Lugoj', 229, 244], ['Craiova', 366, 160], ['Sibiu', 300, 253], ['Arad', 280, 366], ['Oradea', 291, 380]]\n",
            "sortedopen [['Bucharest', 450, 0], ['Lugoj', 229, 244], ['Craiova', 366, 160], ['Sibiu', 300, 253], ['Arad', 280, 366], ['Oradea', 291, 380]]\n",
            "current ['Bucharest', 450, 0]\n",
            "closed [['Arad', 0, 244], ['Sibiu', 140, 253], ['Rimniciu Vilcea', 220, 193], ['Fagaras', 239, 176], ['Pitesti', 317, 100], ['Timisoara', 118, 329], ['Zerind', 75, 374], ['Bucharest', 450, 0]]\n",
            "['Arad', 'Sibiu', 'Rimniciu Vilcea', 'Fagaras', 'Pitesti', 'Timisoara', 'Zerind', 'Bucharest']\n"
          ]
        }
      ]
    },
    {
      "cell_type": "code",
      "source": [
        "graph = {'Arad': [['Zerind', 374], ['Timisoara', 329], ['Sibiu', 253]],\n",
        "         'Zerind': [['Oradea', 380], ['Arad', 366]],\n",
        "         'Oradea': [['Sibiu', 253]],\n",
        "         'Sibiu': [['Rimniciu Vilcea', 193], ['Fagaras', 178], ['Arad', 366]],\n",
        "         'Fagaras': [['Sibiu', 253], ['Bucharest', 0]],\n",
        "         'Rimniciu Vilcea': [['Pitesti', 98], ['Craiova', 160], ['Sibiu', 253]],\n",
        "         'Timisoara': [['Lugoj', 244], ['Arad', 366]],\n",
        "         'Lugoj': [['Mehadia', 241]],\n",
        "         'Mehadia': [['Lugoj', 244], ['Dobreta', 242]],\n",
        "         'Dobreta': [['Mehadia', 241], ['Craiova', 160]],\n",
        "         'Pitesti': [['Craiova', 160], ['Bucharest', 0]],\n",
        "         'Craiova': [['Pitesti', 98], ['Dobreta', 242], ['Rimniciu Vilcea', 193]],\n",
        "         'Bucharest': [['Giurgiu', 77], ['Urziceni', 80], ['Fagaras', 178], ['Pitesti', 98]],\n",
        "         'Giurgiu': [['Bucharest', 0]],\n",
        "         'Urziceni': [['Vaslui', 199], ['Hirsova', 151], ['Bucharest', 0]],\n",
        "         'Vaslui': [['Lasi', 226], ['Urziceni', 80]],\n",
        "         'Lasi': [['Neamt', 234], ['Vaslui', 199]],\n",
        "         'Neamt': [['Lasi', 226]],\n",
        "         'Hirsova': [['Eforie', 161], ['Urziceni', 80]],\n",
        "         'Eforie': [['Hirsova', 151]],\n",
        "         }\n",
        "\n",
        "\n",
        "from operator import itemgetter\n",
        "\n",
        "def gbfs_traversal(graph, start, goal):\n",
        "    opened = [start]\n",
        "    closed = []\n",
        "    while opened:\n",
        "        node = opened.pop(0)\n",
        "        print(node)\n",
        "        if node[0] == goal[0]:\n",
        "          closed.append(node[0])\n",
        "          return closed\n",
        "        else:\n",
        "          closed.append(node[0])\n",
        "          opened = opened + [item for item in graph[node[0]] if item[0] not in [ i[0] for i  in opened] and item[0] not in  closed]\n",
        "          print('opened: ',opened)\n",
        "        opened.sort(key=itemgetter(1))\n",
        "    return 'GOAL Not FOUND'\n",
        "\n",
        "\n",
        "print(\"GBFS\")\n",
        "gbfsPath = gbfs_traversal(graph, ['Arad'],['Bucharest'])\n",
        "print(gbfsPath)\n"
      ],
      "metadata": {
        "id": "BvKp3eyPBnWz",
        "colab": {
          "base_uri": "https://localhost:8080/"
        },
        "outputId": "4b002be1-0e4f-4439-9982-32611e543ed7"
      },
      "execution_count": null,
      "outputs": [
        {
          "output_type": "stream",
          "name": "stdout",
          "text": [
            "GBFS\n",
            "['Arad']\n",
            "opened:  [['Zerind', 374], ['Timisoara', 329], ['Sibiu', 253]]\n",
            "['Sibiu', 253]\n",
            "opened:  [['Timisoara', 329], ['Zerind', 374], ['Rimniciu Vilcea', 193], ['Fagaras', 178]]\n",
            "['Fagaras', 178]\n",
            "opened:  [['Rimniciu Vilcea', 193], ['Timisoara', 329], ['Zerind', 374], ['Bucharest', 0]]\n",
            "['Bucharest', 0]\n",
            "['Arad', 'Sibiu', 'Fagaras', 'Bucharest']\n"
          ]
        }
      ]
    },
    {
      "cell_type": "code",
      "source": [
        "#data series k sath function call krna ho we use .apply (relevant function)\n",
        "#fit will calculate the values and transform will actually transform the values of column in a range\n",
        "#get dummies function is to one-hot encode the data (in pandas library)\n",
        "# ColumnTransformer is the function of sklearn library and it runs the processes in parallel which is a problem cause the updates are not refelected and columns are taken as a fresh"
      ],
      "metadata": {
        "id": "wmRrR-JG_ll0"
      },
      "execution_count": null,
      "outputs": []
    },
    {
      "cell_type": "markdown",
      "source": [
        "# **4th Lab Tasks**"
      ],
      "metadata": {
        "id": "hWVThg7WiSVh"
      }
    },
    {
      "cell_type": "code",
      "source": [
        "\n",
        "import numpy as np\n",
        "import random\n",
        "\n",
        "\n",
        "def create_chromosome():\n",
        "    return np.array([random.randint(0, 7) for _ in range(8)])\n",
        "\n",
        "def chromosome_to_board(chromosome):\n",
        "    board = np.full((8, 8), '.')\n",
        "    for row in range(8):\n",
        "        board[row, chromosome[row]] = 'Q'\n",
        "    return board\n",
        "\n",
        "# Fitness function with diagonal + column conflict checks\n",
        "def calculate_fitness(chromosome):\n",
        "    conflicts = 0\n",
        "    for i in range(8):\n",
        "        for j in range(i + 1, 8):\n",
        "            if chromosome[i] == chromosome[j]:  # Column conflict\n",
        "                conflicts += 1\n",
        "            elif abs(chromosome[i] - chromosome[j]) == abs(i - j):  # Diagonal conflict\n",
        "                conflicts += 1\n",
        "    max_pairs = 28\n",
        "    return max_pairs - conflicts\n",
        "\n",
        "# Crossover: single-point\n",
        "def single_point_crossover(parent1, parent2):\n",
        "    point = random.randint(1, 6)\n",
        "    child1 = np.concatenate((parent1[:point], parent2[point:]))\n",
        "    child2 = np.concatenate((parent2[:point], parent1[point:]))\n",
        "    return child1, child2\n",
        "\n",
        "# Mutation\n",
        "def mutate(chromosome):\n",
        "    index = random.randint(0, 7)  # Which queen to mutate (row)\n",
        "    new_value = random.randint(0, 7)  # New column\n",
        "    mutated = chromosome.copy()\n",
        "    mutated[index] = new_value\n",
        "    return mutated\n",
        "\n",
        "# Genetic Algorithm\n",
        "def genetic_algorithm(pop_size=4, generations=10):\n",
        "\n",
        "    population = [create_chromosome() for _ in range(pop_size)]\n",
        "\n",
        "    for generation in range(generations):\n",
        "        print(f\"\\nGeneration {generation + 1}:\")\n",
        "\n",
        "        fitness_scores = [calculate_fitness(chromo) for chromo in population]\n",
        "        for i, chromo in enumerate(population):\n",
        "            print(f\"Chromosome {i+1}: {chromo}\")\n",
        "            print(f\"Fitness: {fitness_scores[i]}\")\n",
        "\n",
        "        selected = sorted(zip(fitness_scores, population), key=lambda x: x[0])[-2:]\n",
        "        parent1, parent2 = selected[1][1], selected[0][1]\n",
        "\n",
        "        # Crossover\n",
        "        offspring1, offspring2 = single_point_crossover(parent1, parent2)\n",
        "\n",
        "        # Mutation\n",
        "        offspring1 = mutate(offspring1)\n",
        "        offspring2 = mutate(offspring2)\n",
        "\n",
        "        # Create new population\n",
        "        population = [parent1, parent2, offspring1, offspring2]\n",
        "\n",
        "        while len(population) < pop_size:\n",
        "            population.append(create_chromosome())\n",
        "\n",
        "    # Final Output\n",
        "    print(\"\\nFinal Generation:\")\n",
        "    for chromo in population:\n",
        "        board = chromosome_to_board(chromo)\n",
        "        print(f\"\\nChromosome: {chromo}\")\n",
        "        print(f\" Fitness: {calculate_fitness(chromo)}\")\n",
        "        print(board)\n",
        "\n",
        "\n",
        "pop_size = int(input(\"Enter population size: \"))\n",
        "genetic_algorithm(pop_size=pop_size, generations=5)"
      ],
      "metadata": {
        "colab": {
          "base_uri": "https://localhost:8080/"
        },
        "id": "B0FXaeg1iVrQ",
        "outputId": "97b516ae-ab30-4218-fdaa-8aaf0c9de250"
      },
      "execution_count": 13,
      "outputs": [
        {
          "output_type": "stream",
          "name": "stdout",
          "text": [
            "Enter population size: 4\n",
            "\n",
            "Generation 1:\n",
            "Chromosome 1: [0 3 5 1 1 4 5 5]\n",
            "Fitness: 21\n",
            "Chromosome 2: [2 1 2 1 5 1 7 2]\n",
            "Fitness: 17\n",
            "Chromosome 3: [3 5 7 2 1 7 2 3]\n",
            "Fitness: 23\n",
            "Chromosome 4: [5 0 5 0 2 4 4 5]\n",
            "Fitness: 19\n",
            "\n",
            "Generation 2:\n",
            "Chromosome 1: [3 5 7 2 1 7 2 3]\n",
            "Fitness: 23\n",
            "Chromosome 2: [0 3 5 1 1 4 5 5]\n",
            "Fitness: 21\n",
            "Chromosome 3: [6 5 5 1 1 4 5 5]\n",
            "Fitness: 18\n",
            "Chromosome 4: [0 3 7 2 1 7 2 4]\n",
            "Fitness: 23\n",
            "\n",
            "Generation 3:\n",
            "Chromosome 1: [0 3 7 2 1 7 2 4]\n",
            "Fitness: 23\n",
            "Chromosome 2: [3 5 7 2 1 7 2 3]\n",
            "Fitness: 23\n",
            "Chromosome 3: [0 3 7 2 1 6 2 3]\n",
            "Fitness: 24\n",
            "Chromosome 4: [1 5 7 2 1 7 2 4]\n",
            "Fitness: 23\n",
            "\n",
            "Generation 4:\n",
            "Chromosome 1: [0 3 7 2 1 6 2 3]\n",
            "Fitness: 24\n",
            "Chromosome 2: [1 5 7 2 1 7 2 4]\n",
            "Fitness: 23\n",
            "Chromosome 3: [7 3 7 2 1 7 2 4]\n",
            "Fitness: 21\n",
            "Chromosome 4: [1 5 7 2 1 6 2 3]\n",
            "Fitness: 23\n",
            "\n",
            "Generation 5:\n",
            "Chromosome 1: [0 3 7 2 1 6 2 3]\n",
            "Fitness: 24\n",
            "Chromosome 2: [1 5 7 2 1 6 2 3]\n",
            "Fitness: 23\n",
            "Chromosome 3: [0 3 7 2 1 4 2 3]\n",
            "Fitness: 22\n",
            "Chromosome 4: [3 5 7 2 1 6 2 3]\n",
            "Fitness: 24\n",
            "\n",
            "Final Generation:\n",
            "\n",
            "Chromosome: [3 5 7 2 1 6 2 3]\n",
            " Fitness: 24\n",
            "[['.' '.' '.' 'Q' '.' '.' '.' '.']\n",
            " ['.' '.' '.' '.' '.' 'Q' '.' '.']\n",
            " ['.' '.' '.' '.' '.' '.' '.' 'Q']\n",
            " ['.' '.' 'Q' '.' '.' '.' '.' '.']\n",
            " ['.' 'Q' '.' '.' '.' '.' '.' '.']\n",
            " ['.' '.' '.' '.' '.' '.' 'Q' '.']\n",
            " ['.' '.' 'Q' '.' '.' '.' '.' '.']\n",
            " ['.' '.' '.' 'Q' '.' '.' '.' '.']]\n",
            "\n",
            "Chromosome: [0 3 7 2 1 6 2 3]\n",
            " Fitness: 24\n",
            "[['Q' '.' '.' '.' '.' '.' '.' '.']\n",
            " ['.' '.' '.' 'Q' '.' '.' '.' '.']\n",
            " ['.' '.' '.' '.' '.' '.' '.' 'Q']\n",
            " ['.' '.' 'Q' '.' '.' '.' '.' '.']\n",
            " ['.' 'Q' '.' '.' '.' '.' '.' '.']\n",
            " ['.' '.' '.' '.' '.' '.' 'Q' '.']\n",
            " ['.' '.' 'Q' '.' '.' '.' '.' '.']\n",
            " ['.' '.' '.' 'Q' '.' '.' '.' '.']]\n",
            "\n",
            "Chromosome: [3 5 7 2 1 2 2 3]\n",
            " Fitness: 21\n",
            "[['.' '.' '.' 'Q' '.' '.' '.' '.']\n",
            " ['.' '.' '.' '.' '.' 'Q' '.' '.']\n",
            " ['.' '.' '.' '.' '.' '.' '.' 'Q']\n",
            " ['.' '.' 'Q' '.' '.' '.' '.' '.']\n",
            " ['.' 'Q' '.' '.' '.' '.' '.' '.']\n",
            " ['.' '.' 'Q' '.' '.' '.' '.' '.']\n",
            " ['.' '.' 'Q' '.' '.' '.' '.' '.']\n",
            " ['.' '.' '.' 'Q' '.' '.' '.' '.']]\n",
            "\n",
            "Chromosome: [0 3 7 2 1 4 2 3]\n",
            " Fitness: 22\n",
            "[['Q' '.' '.' '.' '.' '.' '.' '.']\n",
            " ['.' '.' '.' 'Q' '.' '.' '.' '.']\n",
            " ['.' '.' '.' '.' '.' '.' '.' 'Q']\n",
            " ['.' '.' 'Q' '.' '.' '.' '.' '.']\n",
            " ['.' 'Q' '.' '.' '.' '.' '.' '.']\n",
            " ['.' '.' '.' '.' 'Q' '.' '.' '.']\n",
            " ['.' '.' 'Q' '.' '.' '.' '.' '.']\n",
            " ['.' '.' '.' 'Q' '.' '.' '.' '.']]\n"
          ]
        }
      ]
    },
    {
      "cell_type": "code",
      "source": [],
      "metadata": {
        "id": "ihI14QsB96Z7"
      },
      "execution_count": null,
      "outputs": []
    }
  ]
}